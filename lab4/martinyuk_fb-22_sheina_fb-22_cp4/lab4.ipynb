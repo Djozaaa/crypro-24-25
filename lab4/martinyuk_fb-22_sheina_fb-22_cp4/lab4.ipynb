{
  "nbformat": 4,
  "nbformat_minor": 0,
  "metadata": {
    "colab": {
      "provenance": []
    },
    "kernelspec": {
      "name": "python3",
      "display_name": "Python 3"
    },
    "language_info": {
      "name": "python"
    }
  },
  "cells": [
    {
      "cell_type": "code",
      "execution_count": 9,
      "metadata": {
        "id": "s1y4sgB56fza",
        "colab": {
          "base_uri": "https://localhost:8080/"
        },
        "outputId": "082360fc-091e-45c7-f428-484c0a732ce7"
      },
      "outputs": [
        {
          "output_type": "stream",
          "name": "stdout",
          "text": [
            "Просте число: 100574064494694283857249577410038087635246173863423551143772504817695638085723\n"
          ]
        }
      ],
      "source": [
        "import random\n",
        "from math import gcd\n",
        "\n",
        "# Перевіряємо на простоту числа n з використанням тесту Міллера-Рабіна\n",
        "def miller_rabin(n, k=40):\n",
        "    if n <= 1 or (n > 3 and n % 2 == 0):\n",
        "      return False\n",
        "    if n <= 3:\n",
        "      return True\n",
        "\n",
        "    # Представляємо n-1 у вигляді (2^r)*d\n",
        "    r, d = 0, n - 1\n",
        "    while d % 2 == 0:\n",
        "        r += 1\n",
        "        d //= 2\n",
        "\n",
        "    # Тестування\n",
        "    for _ in range(k):\n",
        "        a = random.randint(2, n - 2)\n",
        "        x = pow(a, d, n)\n",
        "        if x == 1 or x == n - 1:\n",
        "            continue\n",
        "        for _ in range(r - 1):\n",
        "            x = pow(x, 2, n)\n",
        "            if x == n - 1:\n",
        "                break\n",
        "        else:\n",
        "            return False\n",
        "    return True\n",
        "\n",
        "# Генеруємо випадкове просте число\n",
        "def generating_prime(bit_length):\n",
        "    while True:\n",
        "        number = random.getrandbits(bit_length) | (1 << (bit_length - 1)) | 1\n",
        "        if miller_rabin(number):\n",
        "            return number\n",
        "\n",
        "prime = generating_prime(256)\n",
        "print(\"Просте число:\", prime)"
      ]
    },
    {
      "cell_type": "code",
      "source": [
        "# Генеруємо дві пари простих чисел p, q і p1, q1\n",
        "def generating_pairs(bit_length):\n",
        "    while True:\n",
        "        p = generating_prime(bit_length)\n",
        "        q = generating_prime(bit_length)\n",
        "        p1 = generating_prime(bit_length)\n",
        "        q1 = generating_prime(bit_length)\n",
        "        if p*q <= p1*q1:\n",
        "            return (p, q), (p1, q1)\n",
        "\n",
        "bit_length = 256\n",
        "(pair1, pair2) = generating_pairs(bit_length)\n",
        "(p, q) = pair1\n",
        "(p1, q1) = pair2\n",
        "\n",
        "print(\"Пара для A: p =\", p, \", q =\", q)\n",
        "print(\"Пара для B: p1 =\", p1, \", q1 =\", q1)\n"
      ],
      "metadata": {
        "colab": {
          "base_uri": "https://localhost:8080/"
        },
        "id": "b9WNsY1lvSHl",
        "outputId": "ccf1ae52-2e57-46a9-c0a1-433edd240c88"
      },
      "execution_count": 10,
      "outputs": [
        {
          "output_type": "stream",
          "name": "stdout",
          "text": [
            "Пара для A: p = 75696055949374935531539360269919943641097864649664761825099781654484847217323 , q = 81059111580080410830968372851627995147020976835150522596362127618916968815207\n",
            "Пара для B: p1 = 81734248121107113957517993519244515354238157209037091213785191711352798812171 , q1 = 83622390664251948001183617437572689071602655261494339700910807651229859167739\n"
          ]
        }
      ]
    },
    {
      "cell_type": "code",
      "source": [
        "def inverse(e, phi):\n",
        "    # Обчислюємо e (mod phi) за розширеним алгоритмом Евкліда\n",
        "    a, b = e, phi\n",
        "    x0, x1 = 1, 0\n",
        "    while b != 0:\n",
        "        q, a, b = a // b, b, a % b\n",
        "        x0, x1 = x1, x0 - q*x1\n",
        "    return x0 % phi\n",
        "\n",
        "# Генеруємо пару ключів RSA: (n, e) та (d, p, q)\n",
        "def generating_rsa_keys(p, q):\n",
        "    n = p*q\n",
        "    phi = (p - 1)*(q - 1)\n",
        "    e = 65537\n",
        "    d = inverse(e, phi)\n",
        "    return (n, e), (d, p, q)\n",
        "\n",
        "# Генеруємо ключі для A і В\n",
        "pub_a, priv_a = generating_rsa_keys(p, q)\n",
        "pub_b, priv_b = generating_rsa_keys(p1, q1)\n",
        "\n",
        "print(\"Відкритий ключ A:\", pub_a)\n",
        "print(\"Секретний ключ A:\", priv_a)\n",
        "print(\"Відкритий ключ B:\", pub_b)\n",
        "print(\"Секретний ключ B:\", priv_b)"
      ],
      "metadata": {
        "colab": {
          "base_uri": "https://localhost:8080/"
        },
        "id": "CdGoVctnvXxs",
        "outputId": "bf1d3a1d-aebf-49ff-9301-62736f0503e3"
      },
      "execution_count": 11,
      "outputs": [
        {
          "output_type": "stream",
          "name": "stdout",
          "text": [
            "Відкритий ключ A: (6135855045372392513266273295385235674181490342646385302088731973962844183876410880579820340514288427465113398354026689281878120608678470917417082156230861, 65537)\n",
            "Секретний ключ A: (5604724452388313554391750988829848000354009763525690979511418754128380979043411766844399065408741890212184874700670488134087688327682402112753303933436577, 75696055949374935531539360269919943641097864649664761825099781654484847217323, 81059111580080410830968372851627995147020976835150522596362127618916968815207)\n",
            "Відкритий ключ B: (6834813227032119847987495530346088987022118425012939115733442979599822628804100552377257207519840601240452057252169771257783974697783174173094933843751369, 65537)\n",
            "Секретний ключ B: (1147913227488938205392348799952994514246188527154392493505622882897527315489645768031697508826707143586399348569594541135718221310685892537929291690217533, 81734248121107113957517993519244515354238157209037091213785191711352798812171, 83622390664251948001183617437572689071602655261494339700910807651229859167739)\n"
          ]
        }
      ]
    },
    {
      "cell_type": "code",
      "source": [
        "# Шифруємо повідомлення\n",
        "def encrypting_message(message, pub_key):\n",
        "    n, e = pub_key\n",
        "    return pow(message, e, n)\n",
        "\n",
        "# Розшифровуємо повідомлення\n",
        "def decrypting_message(cipher, priv_key):\n",
        "    d, p, q = priv_key\n",
        "    n = p*q\n",
        "    return pow(cipher, d, n)\n",
        "\n",
        "# Підписуємо повідомлення\n",
        "def signing(message, priv_key):\n",
        "    d, p, q = priv_key\n",
        "    n = p*q\n",
        "    return pow(message, d, n)\n",
        "\n",
        "# Перевіряємо підпис\n",
        "def verifying(signature, pub_key, message):\n",
        "    n, e = pub_key\n",
        "    return pow(signature, e, n) == message\n",
        "\n",
        "message = random.randint(1, pub_a[0] - 1)\n",
        "cipher = encrypting_message(message, pub_a)\n",
        "decrypted_message = decrypting_message(cipher, priv_a)\n",
        "signature = signing(message, priv_a)\n",
        "is_valid = verifying(signature, pub_a, message)\n",
        "\n",
        "print(\"Повідомлення:\", message)\n",
        "print(\"Шифротекст:\", cipher)\n",
        "print(\"Розшифроване повідомлення:\", decrypted_message)\n",
        "print(\"Цифровий підпис:\", signature)\n",
        "print(\"Перевірка підпису:\", is_valid)\n"
      ],
      "metadata": {
        "colab": {
          "base_uri": "https://localhost:8080/"
        },
        "id": "Qf5pkiaDvceY",
        "outputId": "e7bcafd1-1569-486a-fb7f-7c82383c3e4e"
      },
      "execution_count": 16,
      "outputs": [
        {
          "output_type": "stream",
          "name": "stdout",
          "text": [
            "Повідомлення: 783624678796015798344049835263908947130749282836829043792062260763326628825902518355803798808899248961012867517979048816795708134357560437932351557003825\n",
            "Шифротекст: 3327221206454051302028899961144073105520745337996975207329412543186601821945636019426313885537880975464472763404541605145542987152964164726647331961186043\n",
            "Розшифроване повідомлення: 783624678796015798344049835263908947130749282836829043792062260763326628825902518355803798808899248961012867517979048816795708134357560437932351557003825\n",
            "Цифровий підпис: 197197097930744187988176282083390673794099045631325477458004969985239971018584251744350567357448428958983163094518216349706567783634191915372766406213250\n",
            "Перевірка підпису: True\n"
          ]
        }
      ]
    },
    {
      "cell_type": "code",
      "source": [
        "# Відправляємо ключ k з підтвердженням справжності\n",
        "def send_key(secret_key, recipient_pub_key, k):\n",
        "    signature = signing(k, secret_key)  # Підписуємо ключ\n",
        "    encrypted_key = encrypting_message(k, recipient_pub_key)  # Шифруємо ключ\n",
        "    encrypted_signature = encrypting_message(signature, recipient_pub_key)  # Шифруємо підпис\n",
        "    return encrypted_key, encrypted_signature\n",
        "\n",
        "# Отримуємо ключ k, розшифровуємо і перевіряємо його підпис\n",
        "def receive_key(encrypted_key, encrypted_signature, recipient_priv_key, sender_pub_key):\n",
        "    decrypted_key = decrypting_message(encrypted_key, recipient_priv_key)  # Розшифровуємо ключ\n",
        "    decrypted_signature = decrypting_message(encrypted_signature, recipient_priv_key)  # Розшифровуємо підпис\n",
        "    # Перевіряємо справжність підпису\n",
        "    if verifying(decrypted_signature, sender_pub_key, decrypted_key):\n",
        "        return decrypted_key\n",
        "    else:\n",
        "        print(\"Невірний підпис! Ключ не є автентичним.\")\n",
        "\n",
        "k = random.randint(1, pub_b[0] - 1)\n",
        "# Відправник A відправляє ключ B\n",
        "encrypted_key, encrypted_signature = send_key(priv_a, pub_b, k)\n",
        "\n",
        "# Отримувач B отримує ключ від A\n",
        "try:\n",
        "    received_key = receive_key(encrypted_key, encrypted_signature, priv_b, pub_a)\n",
        "    print(\"Переданий ключ:\", k)\n",
        "    print(\"Отриманий ключ:\", received_key)\n",
        "    print(\"Перевірка пройшла успішно!\" if received_key == k else \"Ключі не співпадають!\")\n",
        "except ValueError as e:\n",
        "    print(\"Помилка перевірки:\", str(e))\n"
      ],
      "metadata": {
        "colab": {
          "base_uri": "https://localhost:8080/"
        },
        "id": "nwXXKqfLvdWE",
        "outputId": "c33922c0-b9b2-43b1-984b-9c3499a7813f"
      },
      "execution_count": 17,
      "outputs": [
        {
          "output_type": "stream",
          "name": "stdout",
          "text": [
            "Переданий ключ: 5930522795810190933654409450146250309212382864651123148892872366586279567005733229459805595364552179278834167855187233976049877736017693865941145418571698\n",
            "Отриманий ключ: 5930522795810190933654409450146250309212382864651123148892872366586279567005733229459805595364552179278834167855187233976049877736017693865941145418571698\n",
            "Перевірка пройшла успішно!\n"
          ]
        }
      ]
    }
  ]
}